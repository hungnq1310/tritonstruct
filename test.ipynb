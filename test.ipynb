{
 "cells": [
  {
   "cell_type": "code",
   "execution_count": 13,
   "id": "90d9cbf9",
   "metadata": {},
   "outputs": [
    {
     "name": "stdout",
     "output_type": "stream",
     "text": [
      "Embeddings shape: (1, 128, 768)\n",
      "Embeddings shape: (1, 128, 768)\n"
     ]
    },
    {
     "data": {
      "text/plain": [
       "True"
      ]
     },
     "execution_count": 13,
     "metadata": {},
     "output_type": "execute_result"
    }
   ],
   "source": [
    "from trism import TritonModel\n",
    "import numpy as np\n",
    "\n",
    "# Using the ensemble model (recommended)\n",
    "ensemble = TritonModel(\n",
    "    model=\"ensemble_model\",\n",
    "    version=1,\n",
    "    url=\"localhost:7000\",\n",
    "    grpc=False\n",
    ")\n",
    "\n",
    "# Process text input\n",
    "input_text = [\"Tôi đang học AI\"]\n",
    "input_text = [text.encode(\"utf-8\") for text in input_text]  # Encode to bytes\n",
    "input_text = np.array(input_text, dtype=object)  # Ensure input is a numpy array\n",
    "input_text = np.expand_dims(input_text, axis=0)  # Add batch dimension\n",
    "\n",
    "result = ensemble.run(data=[input_text])\n",
    "embeddings = result[\"embedding\"]\n",
    "print(\"Embeddings shape:\", embeddings.shape)\n",
    "\n",
    "# Using individual models\n",
    "tokenizer = TritonModel(model=\"tokenizer\", version=1, url=\"localhost:7001\")\n",
    "ctx_encoder = TritonModel(model=\"retrieve\", version=1, url=\"localhost:7001\")\n",
    "\n",
    "# Tokenize\n",
    "tokens = tokenizer.run(data=[input_text])\n",
    "# Encode\n",
    "embeddings_2 = ctx_encoder.run(data=[\n",
    "    tokens[\"input_ids\"],\n",
    "    tokens[\"attention_mask\"], \n",
    "    tokens[\"token_type_ids\"]\n",
    "])['last_hidden_state']\n",
    "print(\"Embeddings shape:\", embeddings_2.shape)\n",
    "\n",
    "# check if embeddings match\n",
    "np.allclose(embeddings, embeddings_2, rtol=1e-05, atol=1e-08)"
   ]
  }
 ],
 "metadata": {
  "kernelspec": {
   "display_name": "hungtriton",
   "language": "python",
   "name": "python3"
  },
  "language_info": {
   "codemirror_mode": {
    "name": "ipython",
    "version": 3
   },
   "file_extension": ".py",
   "mimetype": "text/x-python",
   "name": "python",
   "nbconvert_exporter": "python",
   "pygments_lexer": "ipython3",
   "version": "3.12.11"
  }
 },
 "nbformat": 4,
 "nbformat_minor": 5
}
